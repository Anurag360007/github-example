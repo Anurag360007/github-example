{
 "cells": [
  {
   "cell_type": "code",
   "execution_count": 2,
   "metadata": {},
   "outputs": [
    {
     "name": "stdout",
     "output_type": "stream",
     "text": [
      "Search for link : data science articles\n",
      "no. of links you wants : 10\n",
      "https://www.jigsawacademy.com/7-core-articles-data-science-must-read/\n",
      "https://towardsdatascience.com/readers-choice-10-best-data-articles-714006b178e3\n",
      "https://tdwi.org/articles/list/practical-data-science-list.aspx\n",
      "https://mode.com/analytics-dispatch/data-science-articles/\n",
      "https://www.analyticsvidhya.com/blog/2018/12/most-popular-articles-analytics-vidhya-2018/\n",
      "https://www.datascienceweekly.org/data-science-resources/data-science-newsletter-most-read-articles\n",
      "https://hackernoon.com/10-great-articles-on-data-science-and-programming-eec816941896\n",
      "https://opensource.com/article/19/12/data-science-resources\n",
      "https://www.dataversity.net/category/data-topics/data-science-data-topics/data-science-articles/\n",
      "https://medium.com/topic/data-science\n"
     ]
    }
   ],
   "source": [
    "from googlesearch import search\n",
    "\n",
    "query =input(\"Search for link : \")\n",
    "n= int(input(\"no. of links you wants : \"))\n",
    "for i in search(query ,tld=\"co.in\",num=n,stop=n,pause=0.1):\n",
    "    print(i)"
   ]
  },
  {
   "cell_type": "markdown",
   "metadata": {},
   "source": [
    "query: string that we wants to search\n",
    "tld: top level domain which means we wants to search our result on google\n",
    "num: no. of result we wants\n",
    "stop: last result to retrive,, use none to keep searching \n",
    "pause: lapse to wait between http requests"
   ]
  }
 ],
 "metadata": {
  "kernelspec": {
   "display_name": "Python 3",
   "language": "python",
   "name": "python3"
  },
  "language_info": {
   "codemirror_mode": {
    "name": "ipython",
    "version": 3
   },
   "file_extension": ".py",
   "mimetype": "text/x-python",
   "name": "python",
   "nbconvert_exporter": "python",
   "pygments_lexer": "ipython3",
   "version": "3.7.4"
  }
 },
 "nbformat": 4,
 "nbformat_minor": 2
}
